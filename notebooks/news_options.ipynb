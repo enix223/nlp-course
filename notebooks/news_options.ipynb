{
 "cells": [
  {
   "cell_type": "code",
   "execution_count": 1,
   "metadata": {},
   "outputs": [],
   "source": [
    "import os\n",
    "import jieba\n",
    "import pyltp\n",
    "import pandas as pd\n",
    "from gensim.models.word2vec import Word2Vec"
   ]
  },
  {
   "cell_type": "markdown",
   "metadata": {},
   "source": [
    "## Initialize"
   ]
  },
  {
   "cell_type": "code",
   "execution_count": 2,
   "metadata": {},
   "outputs": [],
   "source": [
    "LTP_DATA_DIR = '../data/ltp_data_v3.4.0'  # ltp模型目录的路径\n",
    "cws_model_path = os.path.join(LTP_DATA_DIR, 'cws.model')\n",
    "pos_model_path = os.path.join(LTP_DATA_DIR, 'pos.model')\n",
    "ner_model_path = os.path.join(LTP_DATA_DIR, 'ner.model')\n",
    "par_model_path = os.path.join(LTP_DATA_DIR, 'parser.model')\n",
    "srl_model_path = os.path.join(LTP_DATA_DIR, 'pisrl.model')"
   ]
  },
  {
   "cell_type": "code",
   "execution_count": 3,
   "metadata": {},
   "outputs": [],
   "source": [
    "segmentor = pyltp.Segmentor()\n",
    "segmentor.load(cws_model_path)\n",
    "\n",
    "postagger = pyltp.Postagger()\n",
    "postagger.load(pos_model_path)\n",
    "\n",
    "recognizer = pyltp.NamedEntityRecognizer()\n",
    "recognizer.load(ner_model_path)\n",
    "\n",
    "parser = pyltp.Parser()\n",
    "parser.load(par_model_path)\n",
    "\n",
    "labeller = pyltp.SementicRoleLabeller() # 初始化实例\n",
    "labeller.load(srl_model_path)  # 加载模型"
   ]
  },
  {
   "cell_type": "code",
   "execution_count": 4,
   "metadata": {},
   "outputs": [],
   "source": [
    "# news path\n",
    "NEWS_DATA_PATH = '../data/corpus/sqlResult_1558435.csv'\n",
    "df = pd.read_csv(NEWS_DATA_PATH, encoding='gb18030')"
   ]
  },
  {
   "cell_type": "code",
   "execution_count": 5,
   "metadata": {},
   "outputs": [],
   "source": [
    "# Word2Vec Model\n",
    "NEWS_WORD2VEC_MODEL_PATH = '../data/corpus/news-model.model'\n",
    "news_model = Word2Vec.load(NEWS_WORD2VEC_MODEL_PATH)"
   ]
  },
  {
   "cell_type": "markdown",
   "metadata": {},
   "source": [
    "## Similiar words for '说'"
   ]
  },
  {
   "cell_type": "code",
   "execution_count": 6,
   "metadata": {},
   "outputs": [],
   "source": [
    "say_words = news_model.wv.most_similar('说', topn=20)"
   ]
  },
  {
   "cell_type": "code",
   "execution_count": 7,
   "metadata": {},
   "outputs": [],
   "source": [
    "say_words_dict = dict(say_words)"
   ]
  },
  {
   "cell_type": "code",
   "execution_count": 8,
   "metadata": {},
   "outputs": [],
   "source": [
    "say_words_dict['说'] = 1"
   ]
  },
  {
   "cell_type": "code",
   "execution_count": 9,
   "metadata": {},
   "outputs": [
    {
     "data": {
      "text/plain": [
       "{'表示': 0.8519119024276733,\n",
       " '指出': 0.7626331448554993,\n",
       " '坦言': 0.7605428695678711,\n",
       " '告诉': 0.7429102063179016,\n",
       " '认为': 0.7411446571350098,\n",
       " '看来': 0.6876845955848694,\n",
       " '称': 0.6868260502815247,\n",
       " '文说': 0.6837325096130371,\n",
       " '明说': 0.6574992537498474,\n",
       " '介绍': 0.6380150318145752,\n",
       " '强调': 0.6211819052696228,\n",
       " '透露': 0.6170471906661987,\n",
       " '所说': 0.615271270275116,\n",
       " '中说': 0.608891487121582,\n",
       " '说道': 0.5734717845916748,\n",
       " '时说': 0.5723824501037598,\n",
       " '地说': 0.5509226322174072,\n",
       " '写道': 0.5426820516586304,\n",
       " '问': 0.5383782386779785,\n",
       " '提到': 0.5280981659889221,\n",
       " '说': 1}"
      ]
     },
     "execution_count": 9,
     "metadata": {},
     "output_type": "execute_result"
    }
   ],
   "source": [
    "say_words_dict"
   ]
  },
  {
   "cell_type": "markdown",
   "metadata": {},
   "source": [
    "## Extration Example"
   ]
  },
  {
   "cell_type": "code",
   "execution_count": 10,
   "metadata": {},
   "outputs": [],
   "source": [
    "contents = df[~df['content'].isnull()]['content']"
   ]
  },
  {
   "cell_type": "code",
   "execution_count": 11,
   "metadata": {},
   "outputs": [],
   "source": [
    "news = contents[96]"
   ]
  },
  {
   "cell_type": "code",
   "execution_count": 12,
   "metadata": {},
   "outputs": [
    {
     "data": {
      "text/plain": [
       "'中新网6月23日电 (记者潘旭临) 意大利航空首席商务官乔治先生22日在北京接受中新网记者专访时表示，意航确信中国市场对意航的重要性，目前意航已将发展中国市场提升到战略层级的高度，未来，意航将加大在华布局，提升业务水平。\\r\\n到意大利航空履职仅7个月的乔治，主要负责包括中国市场在内的亚太业务。此次北京之行，目标是加深对中国市场的了解，寻找合作和投资良机。\\r\\n他说，“自己是第一次访问北京，也是第一次到中国访问。虽然此次时间短暂，但中国传统文化、古代建筑以及可口的中餐等，都给他留下非常美好的印象。”\\r\\n自从去年7月，意大利航空首次开启罗马至北京往返直飞航线后，目前每周有4个航班，提供近千个座位，业绩状况一直稳步有升。乔治称，随着对华业务不断提升，意航明年可能会将每周4班提高到每天一班。同时，意航会借罗马新航站楼启用之际，吸引更多中国旅客到意大利旅游和转机。此外，还将加大对北京直飞航线的投资，如翻新航班座椅，增加电视中有关中国内容的娱乐节目、提高机上中文服务、餐饮服务、完善意航中文官方网站，提升商务舱和普通舱的舒适度等。\\r\\n他表示，随着中国经济持续稳步增长，中国将很快跃居成为世界第一出境旅游大国。去年中国出境旅游突破了一亿人次，来意大利旅游的中国人也超过百万人次，今年还会增加。在面对如此巨大的旅游市场时，作为本土老牌航空公司，意航只有练好“内功”，不断完善和提高自身业务能力，才能在市场竞争中，占得先机，立于不败之地。\\r\\n在谈到目前意大利航空的经营状况时，乔治先生坦言，走过70年的意大利航空，目前正在经历如裁员、管理层重组等历史上又一次转型期。 乔治表示，意航转型期也是投资者的机遇期，意大利航空已做好吸引全球业界投资的准备，以迅速扩充实力，目前已有33家国际投资机构向意航提出投资申请，能否接受、如何接受，意航需做全面评估才会决定。\\r\\n乔治表示，在转型期内，意航业务如常，资金充分，并计划在下半年和明年增加中远程航线的投资，尤其是稳固和加强像中国这样的大市场投资。\\r\\n'"
      ]
     },
     "execution_count": 12,
     "metadata": {},
     "output_type": "execute_result"
    }
   ],
   "source": [
    "news"
   ]
  },
  {
   "cell_type": "code",
   "execution_count": 13,
   "metadata": {},
   "outputs": [],
   "source": [
    "words = segmentor.segment(news.replace('\\r\\n', ''))"
   ]
  },
  {
   "cell_type": "code",
   "execution_count": 14,
   "metadata": {},
   "outputs": [],
   "source": [
    "postags = postagger.postag(words)"
   ]
  },
  {
   "cell_type": "code",
   "execution_count": 15,
   "metadata": {},
   "outputs": [],
   "source": [
    "netags = recognizer.recognize(words, postags)"
   ]
  },
  {
   "cell_type": "code",
   "execution_count": 16,
   "metadata": {},
   "outputs": [
    {
     "data": {
      "text/plain": [
       "'O O O O O O S-Nh O B-Ni I-Ni E-Ni O S-Nh O O O S-Ns O O O O O O O O O S-Ns O O O O O O O O O O O S-Ns O O O O O O O O O O O O O O O O O O O O O O S-Ns O O O O O O O S-Nh O O O O S-Ns O O O O O O O O S-Ns O O O O O O O S-Ns O O O O O O O O O O O O O O O O O O O S-Ns O O O O O O S-Ns O O O O O O O O S-Ns O O O O O O O O O O O O O O O O O O O O O O O O O S-Ns O O O O S-Ns O S-Ns O O O O O O O O O O O O O O O O O O O O O O O O O O S-Nh O O O O O O O O O O O O O O O O O O O O O O O O O O O O B-Ni E-Ni O O O O O O O S-Ns O O S-Ns O O O O O O O O O O S-Ns O O O O O O O O O O O O O O O S-Ns O O O O O O O O O O O O O O O O O O O O O O O O O O O O O O O S-Ns O O O O O S-Ns O O O O O O O O O O O S-Ns O O O O O O O O S-Ns O O S-Ns O O O O O O O O O O O O O O O O O O O O O O O O O O O O O O O O O O O O O O O O O O O O O O O O O O O O O O O O O O O S-Ns O O O O O O S-Nh O O O O O O O S-Ns O O O O O O O O O O O O O O O O O O S-Nh O O O O O O O O O O S-Ns O O O O O O O O O O O O O O O O O O O O O O O O O O O O O O O O O O O O O O O O O O O O S-Nh O O O O O O O O O O O O O O O O O O O O O O O O O O O O O O O S-Ns O O O O O O'"
      ]
     },
     "execution_count": 16,
     "metadata": {},
     "output_type": "execute_result"
    }
   ],
   "source": [
    "' '.join(netags)"
   ]
  },
  {
   "cell_type": "code",
   "execution_count": 17,
   "metadata": {},
   "outputs": [
    {
     "data": {
      "text/plain": [
       "'中新网 6月 23日 电 ( 记者 潘旭临 ) 意大利 航空 首席 商务官 乔治 先生 22日 在 北京 接受 中新网 记者 专访 时 表示 ， 意航 确信 中国 市场 对 意航 的 重要性 ， 目前 意航 已 将 发展 中国 市场 提升 到 战略 层级 的 高度 ， 未来 ， 意航 将 加大 在 华 布局 ， 提升 业务 水平 。 到 意大利 航空 履职 仅 7 个 月 的 乔治 ， 主要 负责 包括 中国 市场 在内 的 亚 太 业务 。 此次 北京 之 行 ， 目标 是 加深 对 中国 市场 的 了解 ， 寻找 合作 和 投资 良机 。 他 说 ， “ 自己 是 第一 次 访问 北京 ， 也 是 第一 次 到 中国 访问 。 虽然 此次 时间 短暂 ， 但 中国 传统 文化 、 古代 建筑 以及 可口 的 中餐 等 ， 都 给 他 留下 非常 美好 的 印象 。 ” 自从 去年 7月 ， 意大利 航空 首 次 开启 罗马 至 北京 往返 直 飞 航线 后 ， 目前 每周 有 4 个 航班 ， 提供 近 千 个 座位 ， 业绩 状况 一直 稳步 有 升 。 乔治 称 ， 随着 对 华 业务 不断 提升 ， 意航 明年 可能 会 将 每周 4 班 提高 到 每天 一 班 。 同时 ， 意航 会 借 罗马 新航 站楼 启用 之际 ， 吸引 更 多 中国 旅客 到 意大利 旅游 和 转机 。 此外 ， 还 将 加大 对 北京 直 飞 航线 的 投资 ， 如 翻新 航班 座椅 ， 增加 电视 中 有关 中国 内容 的 娱乐 节目 、 提高 机上 中文 服务 、 餐饮 服务 、 完善 意航 中文 官方 网站 ， 提升 商务舱 和 普通舱 的 舒适度 等 。 他 表示 ， 随着 中国 经济 持续 稳步 增长 ， 中国 将 很快 跃居 成为 世界 第一 出境 旅游 大国 。 去年 中国 出境 旅游 突破 了 一亿 人次 ， 来 意大利 旅游 的 中国 人 也 超过 百万 人次 ， 今年 还 会 增加 。 在 面对 如此 巨大 的 旅游 市场 时 ， 作为 本土 老牌 航空 公司 ， 意航 只有 练 好 “ 内功 ” ， 不断 完善 和 提高 自身 业务 能力 ， 才 能 在 市场 竞争 中 ， 占 得 先机 ， 立于不败之地 。 在 谈 到 目前 意大利 航空 的 经营 状况 时 ， 乔治 先生 坦言 ， 走过 70 年 的 意大利 航空 ， 目前 正在 经历 如 裁员 、 管理层 重组 等 历史 上 又 一 次 转型期 。 乔治 表示 ， 意航 转型期 也 是 投资者 的 机遇期 ， 意大利 航空 已 做 好 吸引 全球业界 投资 的 准备 ， 以 迅速 扩充 实力 ， 目前 已 有 33 家 国际 投资 机构 向 意航 提出 投资 申请 ， 能否 接受 、 如何 接受 ， 意航 需 做 全面 评估 才 会 决定 。 乔治 表示 ， 在 转型期 内 ， 意航 业务 如常 ， 资金 充分 ， 并 计划 在 下半年 和 明年 增加 中远程 航线 的 投资 ， 尤其 是 稳固 和 加强 像 中国 这样 的 大 市场 投资 。'"
      ]
     },
     "execution_count": 17,
     "metadata": {},
     "output_type": "execute_result"
    }
   ],
   "source": [
    "' '.join(words)"
   ]
  },
  {
   "cell_type": "code",
   "execution_count": 18,
   "metadata": {},
   "outputs": [
    {
     "data": {
      "text/plain": [
       "'n nt nt n wp n nh wp ns n n n nh n nt p ns v nz n v n v wp j v ns n p j u n wp nt j d p v ns n v v n n u n wp nt wp j d v p j n wp v n n wp v ns n n d m q n u nh wp d v v ns n u u j j n wp r ns u n wp n v v p ns n u v wp v v c v n wp r v wp wp r v m q v ns wp d v m q v ns v wp c r n a wp c ns n n wp nt n c a u n u wp d p r v d a u n wp wp p nt nt wp ns n m q v ns p ns v d v n nd wp nt r v m q n wp v a m q n wp n n d d v v wp nh v wp p p j n d v wp j nt v v p r m n v v r m q wp n wp j v v ns j n v nd wp v d a ns n v ns v c n wp c wp d d v p ns d v n u v wp v v n n wp v n nd p ns n u v n wp v nl nz v wp n v wp v j nz n n wp v n c n u n u wp r v wp p ns n v d v wp ns d d v v n m v v n wp nt ns v v v u m q wp v ns v u ns n d v m q wp nt d v v wp p v r a u v n n wp p n b n n wp j c v a wp n wp wp d v c v r n n wp c v p n v nd wp v v n wp i wp p v v nt ns n u v n n wp nh n v wp v m q u ns n wp nt d v v v wp n v u n nd d m q n wp nh v wp j n d v n u n wp ns n d v a v n v u v wp p a v n wp nt d v m q n v n p j v v n wp v v wp r v wp n v v a v d v v wp nh v wp p n nd wp j n v wp n a wp c v p nt c nt v n n u v wp d v a c v v ns r u a n v wp'"
      ]
     },
     "execution_count": 18,
     "metadata": {},
     "output_type": "execute_result"
    }
   ],
   "source": [
    "' '.join(postags)"
   ]
  },
  {
   "cell_type": "code",
   "execution_count": 19,
   "metadata": {},
   "outputs": [
    {
     "name": "stdout",
     "output_type": "stream",
     "text": [
      "0:中新网/n\t1:6月/nt\t2:23日/nt\t3:电/n\t4:(/wp\t5:记者/n\t6:潘旭临/nh\t7:)/wp\t8:意大利/ns\t9:航空/n\t10:首席/n\t11:商务官/n\t12:乔治/nh\t13:先生/n\t14:22日/nt\t15:在/p\t16:北京/ns\t17:接受/v\t18:中新网/nz\t19:记者/n\t20:专访/v\t21:时/n\t22:表示/v\t23:，/wp\t24:意航/j\t25:确信/v\t26:中国/ns\t27:市场/n\t28:对/p\t29:意航/j\t30:的/u\t31:重要性/n\t32:，/wp\t33:目前/nt\t34:意航/j\t35:已/d\t36:将/p\t37:发展/v\t38:中国/ns\t39:市场/n\t40:提升/v\t41:到/v\t42:战略/n\t43:层级/n\t44:的/u\t45:高度/n\t46:，/wp\t47:未来/nt\t48:，/wp\t49:意航/j\t50:将/d\t51:加大/v\t52:在/p\t53:华/j\t54:布局/n\t55:，/wp\t56:提升/v\t57:业务/n\t58:水平/n\t59:。/wp\t60:到/v\t61:意大利/ns\t62:航空/n\t63:履职/n\t64:仅/d\t65:7/m\t66:个/q\t67:月/n\t68:的/u\t69:乔治/nh\t70:，/wp\t71:主要/d\t72:负责/v\t73:包括/v\t74:中国/ns\t75:市场/n\t76:在内/u\t77:的/u\t78:亚/j\t79:太/j\t80:业务/n\t81:。/wp\t82:此次/r\t83:北京/ns\t84:之/u\t85:行/n\t86:，/wp\t87:目标/n\t88:是/v\t89:加深/v\t90:对/p\t91:中国/ns\t92:市场/n\t93:的/u\t94:了解/v\t95:，/wp\t96:寻找/v\t97:合作/v\t98:和/c\t99:投资/v\t100:良机/n\t101:。/wp\t102:他/r\t103:说/v\t104:，/wp\t105:“/wp\t106:自己/r\t107:是/v\t108:第一/m\t109:次/q\t110:访问/v\t111:北京/ns\t112:，/wp\t113:也/d\t114:是/v\t115:第一/m\t116:次/q\t117:到/v\t118:中国/ns\t119:访问/v\t120:。/wp\t121:虽然/c\t122:此次/r\t123:时间/n\t124:短暂/a\t125:，/wp\t126:但/c\t127:中国/ns\t128:传统/n\t129:文化/n\t130:、/wp\t131:古代/nt\t132:建筑/n\t133:以及/c\t134:可口/a\t135:的/u\t136:中餐/n\t137:等/u\t138:，/wp\t139:都/d\t140:给/p\t141:他/r\t142:留下/v\t143:非常/d\t144:美好/a\t145:的/u\t146:印象/n\t147:。/wp\t148:”/wp\t149:自从/p\t150:去年/nt\t151:7月/nt\t152:，/wp\t153:意大利/ns\t154:航空/n\t155:首/m\t156:次/q\t157:开启/v\t158:罗马/ns\t159:至/p\t160:北京/ns\t161:往返/v\t162:直/d\t163:飞/v\t164:航线/n\t165:后/nd\t166:，/wp\t167:目前/nt\t168:每周/r\t169:有/v\t170:4/m\t171:个/q\t172:航班/n\t173:，/wp\t174:提供/v\t175:近/a\t176:千/m\t177:个/q\t178:座位/n\t179:，/wp\t180:业绩/n\t181:状况/n\t182:一直/d\t183:稳步/d\t184:有/v\t185:升/v\t186:。/wp\t187:乔治/nh\t188:称/v\t189:，/wp\t190:随着/p\t191:对/p\t192:华/j\t193:业务/n\t194:不断/d\t195:提升/v\t196:，/wp\t197:意航/j\t198:明年/nt\t199:可能/v\t200:会/v\t201:将/p\t202:每周/r\t203:4/m\t204:班/n\t205:提高/v\t206:到/v\t207:每天/r\t208:一/m\t209:班/q\t210:。/wp\t211:同时/n\t212:，/wp\t213:意航/j\t214:会/v\t215:借/v\t216:罗马/ns\t217:新航/j\t218:站楼/n\t219:启用/v\t220:之际/nd\t221:，/wp\t222:吸引/v\t223:更/d\t224:多/a\t225:中国/ns\t226:旅客/n\t227:到/v\t228:意大利/ns\t229:旅游/v\t230:和/c\t231:转机/n\t232:。/wp\t233:此外/c\t234:，/wp\t235:还/d\t236:将/d\t237:加大/v\t238:对/p\t239:北京/ns\t240:直/d\t241:飞/v\t242:航线/n\t243:的/u\t244:投资/v\t245:，/wp\t246:如/v\t247:翻新/v\t248:航班/n\t249:座椅/n\t250:，/wp\t251:增加/v\t252:电视/n\t253:中/nd\t254:有关/p\t255:中国/ns\t256:内容/n\t257:的/u\t258:娱乐/v\t259:节目/n\t260:、/wp\t261:提高/v\t262:机上/nl\t263:中文/nz\t264:服务/v\t265:、/wp\t266:餐饮/n\t267:服务/v\t268:、/wp\t269:完善/v\t270:意航/j\t271:中文/nz\t272:官方/n\t273:网站/n\t274:，/wp\t275:提升/v\t276:商务舱/n\t277:和/c\t278:普通舱/n\t279:的/u\t280:舒适度/n\t281:等/u\t282:。/wp\t283:他/r\t284:表示/v\t285:，/wp\t286:随着/p\t287:中国/ns\t288:经济/n\t289:持续/v\t290:稳步/d\t291:增长/v\t292:，/wp\t293:中国/ns\t294:将/d\t295:很快/d\t296:跃居/v\t297:成为/v\t298:世界/n\t299:第一/m\t300:出境/v\t301:旅游/v\t302:大国/n\t303:。/wp\t304:去年/nt\t305:中国/ns\t306:出境/v\t307:旅游/v\t308:突破/v\t309:了/u\t310:一亿/m\t311:人次/q\t312:，/wp\t313:来/v\t314:意大利/ns\t315:旅游/v\t316:的/u\t317:中国/ns\t318:人/n\t319:也/d\t320:超过/v\t321:百万/m\t322:人次/q\t323:，/wp\t324:今年/nt\t325:还/d\t326:会/v\t327:增加/v\t328:。/wp\t329:在/p\t330:面对/v\t331:如此/r\t332:巨大/a\t333:的/u\t334:旅游/v\t335:市场/n\t336:时/n\t337:，/wp\t338:作为/p\t339:本土/n\t340:老牌/b\t341:航空/n\t342:公司/n\t343:，/wp\t344:意航/j\t345:只有/c\t346:练/v\t347:好/a\t348:“/wp\t349:内功/n\t350:”/wp\t351:，/wp\t352:不断/d\t353:完善/v\t354:和/c\t355:提高/v\t356:自身/r\t357:业务/n\t358:能力/n\t359:，/wp\t360:才/c\t361:能/v\t362:在/p\t363:市场/n\t364:竞争/v\t365:中/nd\t366:，/wp\t367:占/v\t368:得/v\t369:先机/n\t370:，/wp\t371:立于不败之地/i\t372:。/wp\t373:在/p\t374:谈/v\t375:到/v\t376:目前/nt\t377:意大利/ns\t378:航空/n\t379:的/u\t380:经营/v\t381:状况/n\t382:时/n\t383:，/wp\t384:乔治/nh\t385:先生/n\t386:坦言/v\t387:，/wp\t388:走过/v\t389:70/m\t390:年/q\t391:的/u\t392:意大利/ns\t393:航空/n\t394:，/wp\t395:目前/nt\t396:正在/d\t397:经历/v\t398:如/v\t399:裁员/v\t400:、/wp\t401:管理层/n\t402:重组/v\t403:等/u\t404:历史/n\t405:上/nd\t406:又/d\t407:一/m\t408:次/q\t409:转型期/n\t410:。/wp\t411:乔治/nh\t412:表示/v\t413:，/wp\t414:意航/j\t415:转型期/n\t416:也/d\t417:是/v\t418:投资者/n\t419:的/u\t420:机遇期/n\t421:，/wp\t422:意大利/ns\t423:航空/n\t424:已/d\t425:做/v\t426:好/a\t427:吸引/v\t428:全球业界/n\t429:投资/v\t430:的/u\t431:准备/v\t432:，/wp\t433:以/p\t434:迅速/a\t435:扩充/v\t436:实力/n\t437:，/wp\t438:目前/nt\t439:已/d\t440:有/v\t441:33/m\t442:家/q\t443:国际/n\t444:投资/v\t445:机构/n\t446:向/p\t447:意航/j\t448:提出/v\t449:投资/v\t450:申请/n\t451:，/wp\t452:能否/v\t453:接受/v\t454:、/wp\t455:如何/r\t456:接受/v\t457:，/wp\t458:意航/n\t459:需/v\t460:做/v\t461:全面/a\t462:评估/v\t463:才/d\t464:会/v\t465:决定/v\t466:。/wp\t467:乔治/nh\t468:表示/v\t469:，/wp\t470:在/p\t471:转型期/n\t472:内/nd\t473:，/wp\t474:意航/j\t475:业务/n\t476:如常/v\t477:，/wp\t478:资金/n\t479:充分/a\t480:，/wp\t481:并/c\t482:计划/v\t483:在/p\t484:下半年/nt\t485:和/c\t486:明年/nt\t487:增加/v\t488:中远程/n\t489:航线/n\t490:的/u\t491:投资/v\t492:，/wp\t493:尤其/d\t494:是/v\t495:稳固/a\t496:和/c\t497:加强/v\t498:像/v\t499:中国/ns\t500:这样/r\t501:的/u\t502:大/a\t503:市场/n\t504:投资/v\t505:。/wp\n"
     ]
    }
   ],
   "source": [
    "print('\\t'.join(['{}:{}/{}'.format(i, words[i], postags[i]) for i in range(len(words))]))"
   ]
  },
  {
   "cell_type": "markdown",
   "metadata": {},
   "source": [
    "## Extract '说' and similar words from content"
   ]
  },
  {
   "cell_type": "code",
   "execution_count": 30,
   "metadata": {},
   "outputs": [],
   "source": [
    "say_positions = [(w, i) for i, w in enumerate(words) if w in say_words_dict]"
   ]
  },
  {
   "cell_type": "code",
   "execution_count": 31,
   "metadata": {},
   "outputs": [
    {
     "data": {
      "text/plain": [
       "[('表示', 22),\n",
       " ('说', 103),\n",
       " ('称', 188),\n",
       " ('表示', 284),\n",
       " ('坦言', 386),\n",
       " ('表示', 412),\n",
       " ('表示', 468)]"
      ]
     },
     "execution_count": 31,
     "metadata": {},
     "output_type": "execute_result"
    }
   ],
   "source": [
    "say_positions"
   ]
  },
  {
   "cell_type": "markdown",
   "metadata": {},
   "source": [
    "## NER - extract all the names from the content"
   ]
  },
  {
   "cell_type": "code",
   "execution_count": 22,
   "metadata": {},
   "outputs": [],
   "source": [
    "all_names_positions = [(i, tag) for i, tag in enumerate(netags) if 'Nh' in tag]"
   ]
  },
  {
   "cell_type": "code",
   "execution_count": 23,
   "metadata": {},
   "outputs": [
    {
     "data": {
      "text/plain": [
       "[(6, 'S-Nh'),\n",
       " (12, 'S-Nh'),\n",
       " (69, 'S-Nh'),\n",
       " (187, 'S-Nh'),\n",
       " (384, 'S-Nh'),\n",
       " (411, 'S-Nh'),\n",
       " (467, 'S-Nh')]"
      ]
     },
     "execution_count": 23,
     "metadata": {},
     "output_type": "execute_result"
    }
   ],
   "source": [
    "all_names_positions"
   ]
  },
  {
   "cell_type": "code",
   "execution_count": 24,
   "metadata": {},
   "outputs": [],
   "source": [
    "all_names = [(words[name[0]], name[0]) for name in all_names_positions]"
   ]
  },
  {
   "cell_type": "code",
   "execution_count": 33,
   "metadata": {},
   "outputs": [
    {
     "data": {
      "text/plain": [
       "[('潘旭临', 6),\n",
       " ('乔治', 12),\n",
       " ('乔治', 69),\n",
       " ('乔治', 187),\n",
       " ('乔治', 384),\n",
       " ('乔治', 411),\n",
       " ('乔治', 467)]"
      ]
     },
     "execution_count": 33,
     "metadata": {},
     "output_type": "execute_result"
    }
   ],
   "source": [
    "all_names"
   ]
  },
  {
   "cell_type": "code",
   "execution_count": 35,
   "metadata": {},
   "outputs": [],
   "source": [
    "names = set(map(lambda x: x[0], all_names))"
   ]
  },
  {
   "cell_type": "code",
   "execution_count": 36,
   "metadata": {},
   "outputs": [
    {
     "data": {
      "text/plain": [
       "{'乔治', '潘旭临'}"
      ]
     },
     "execution_count": 36,
     "metadata": {},
     "output_type": "execute_result"
    }
   ],
   "source": [
    "names"
   ]
  },
  {
   "cell_type": "markdown",
   "metadata": {},
   "source": [
    "## 依存句法分析"
   ]
  },
  {
   "cell_type": "code",
   "execution_count": 26,
   "metadata": {},
   "outputs": [],
   "source": [
    "arcs = parser.parse(words, postags)"
   ]
  },
  {
   "cell_type": "code",
   "execution_count": 32,
   "metadata": {},
   "outputs": [
    {
     "name": "stdout",
     "output_type": "stream",
     "text": [
      "0:中新网=>4:ADV\n",
      "1:6月=>3:ATT\n",
      "2:23日=>4:ADV\n",
      "3:电=>0:HED\n",
      "4:(=>7:WP\n",
      "5:记者=>7:ATT\n",
      "6:潘旭临=>4:CMP\n",
      "7:)=>7:WP\n",
      "8:意大利=>10:ATT\n",
      "9:航空=>11:ATT\n",
      "10:首席=>12:ATT\n",
      "11:商务官=>13:ATT\n",
      "12:乔治=>14:ATT\n",
      "13:先生=>23:SBV\n",
      "14:22日=>18:ADV\n",
      "15:在=>18:ADV\n",
      "16:北京=>16:POB\n",
      "17:接受=>22:ATT\n",
      "18:中新网=>20:ATT\n",
      "19:记者=>21:ATT\n",
      "20:专访=>18:VOB\n",
      "21:时=>23:ADV\n",
      "22:********表示********=>4:VOB\n",
      "23:，=>23:WP\n",
      "24:意航=>26:SBV\n",
      "25:确信=>23:VOB\n",
      "26:中国=>28:ATT\n",
      "27:市场=>32:ATT\n",
      "28:对=>32:ATT\n",
      "29:意航=>29:POB\n",
      "30:的=>29:RAD\n",
      "31:重要性=>26:VOB\n",
      "32:，=>26:WP\n",
      "33:目前=>37:ADV\n",
      "34:意航=>37:SBV\n",
      "35:已=>37:ADV\n",
      "36:将=>26:COO\n",
      "37:发展=>37:POB\n",
      "38:中国=>40:ATT\n",
      "39:市场=>41:SBV\n",
      "40:提升=>38:VOB\n",
      "41:到=>41:CMP\n",
      "42:战略=>44:ATT\n",
      "43:层级=>46:ATT\n",
      "44:的=>44:RAD\n",
      "45:高度=>41:VOB\n",
      "46:，=>41:WP\n",
      "47:未来=>52:ADV\n",
      "48:，=>48:WP\n",
      "49:意航=>52:SBV\n",
      "50:将=>52:ADV\n",
      "51:加大=>41:COO\n",
      "52:在=>55:ATT\n",
      "53:华=>53:POB\n",
      "54:布局=>52:VOB\n",
      "55:，=>52:WP\n",
      "56:提升=>52:COO\n",
      "57:业务=>59:ATT\n",
      "58:水平=>57:VOB\n",
      "59:。=>23:WP\n",
      "60:到=>73:ADV\n",
      "61:意大利=>63:ATT\n",
      "62:航空=>64:ATT\n",
      "63:履职=>70:ATT\n",
      "64:仅=>68:ATT\n",
      "65:7=>67:ATT\n",
      "66:个=>68:ATT\n",
      "67:月=>70:ATT\n",
      "68:的=>68:RAD\n",
      "69:乔治=>61:POB\n",
      "70:，=>61:WP\n",
      "71:主要=>73:ADV\n",
      "72:负责=>23:COO\n",
      "73:包括=>81:ATT\n",
      "74:中国=>76:ATT\n",
      "75:市场=>74:POB\n",
      "76:在内=>74:RAD\n",
      "77:的=>74:RAD\n",
      "78:亚=>81:ATT\n",
      "79:太=>79:COO\n",
      "80:业务=>73:VOB\n",
      "81:。=>23:WP\n",
      "82:此次=>86:ATT\n",
      "83:北京=>86:ATT\n",
      "84:之=>84:RAD\n",
      "85:行=>89:SBV\n",
      "86:，=>86:WP\n",
      "87:目标=>89:SBV\n",
      "88:是=>23:COO\n",
      "89:加深=>89:VOB\n",
      "90:对=>95:ATT\n",
      "91:中国=>93:ATT\n",
      "92:市场=>91:POB\n",
      "93:的=>91:RAD\n",
      "94:了解=>90:VOB\n",
      "95:，=>90:WP\n",
      "96:寻找=>90:COO\n",
      "97:合作=>101:ATT\n",
      "98:和=>100:LAD\n",
      "99:投资=>98:COO\n",
      "100:良机=>97:VOB\n",
      "101:。=>23:WP\n",
      "102:他=>104:SBV\n",
      "103:********说********=>23:COO\n",
      "104:，=>104:WP\n",
      "105:“=>108:WP\n",
      "106:自己=>108:SBV\n",
      "107:是=>104:VOB\n",
      "108:第一=>110:ATT\n",
      "109:次=>111:ADV\n",
      "110:访问=>108:VOB\n",
      "111:北京=>111:VOB\n",
      "112:，=>108:WP\n",
      "113:也=>115:ADV\n",
      "114:是=>108:COO\n",
      "115:第一=>117:ATT\n",
      "116:次=>120:ADV\n",
      "117:到=>120:ADV\n",
      "118:中国=>118:POB\n",
      "119:访问=>115:VOB\n",
      "120:。=>108:WP\n",
      "121:虽然=>125:ADV\n",
      "122:此次=>124:ATT\n",
      "123:时间=>125:SBV\n",
      "124:短暂=>108:COO\n",
      "125:，=>125:WP\n",
      "126:但=>143:ADV\n",
      "127:中国=>130:ATT\n",
      "128:传统=>130:ATT\n",
      "129:文化=>143:SBV\n",
      "130:、=>133:WP\n",
      "131:古代=>133:ATT\n",
      "132:建筑=>130:COO\n",
      "133:以及=>137:LAD\n",
      "134:可口=>137:ATT\n",
      "135:的=>135:RAD\n",
      "136:中餐=>130:COO\n",
      "137:等=>130:RAD\n",
      "138:，=>130:WP\n",
      "139:都=>143:ADV\n",
      "140:给=>143:ADV\n",
      "141:他=>141:POB\n",
      "142:留下=>125:COO\n",
      "143:非常=>145:ADV\n",
      "144:美好=>147:ATT\n",
      "145:的=>145:RAD\n",
      "146:印象=>143:VOB\n",
      "147:。=>108:WP\n",
      "148:”=>108:WP\n",
      "149:自从=>170:ADV\n",
      "150:去年=>152:ATT\n",
      "151:7月=>150:POB\n",
      "152:，=>150:WP\n",
      "153:意大利=>155:ATT\n",
      "154:航空=>158:SBV\n",
      "155:首=>157:ATT\n",
      "156:次=>158:ADV\n",
      "157:开启=>166:ATT\n",
      "158:罗马=>158:VOB\n",
      "159:至=>162:ADV\n",
      "160:北京=>160:POB\n",
      "161:往返=>158:COO\n",
      "162:直=>164:ADV\n",
      "163:飞=>162:COO\n",
      "164:航线=>164:VOB\n",
      "165:后=>170:ADV\n",
      "166:，=>166:WP\n",
      "167:目前=>170:ADV\n",
      "168:每周=>170:ADV\n",
      "169:有=>108:COO\n",
      "170:4=>172:ATT\n",
      "171:个=>173:ATT\n",
      "172:航班=>170:VOB\n",
      "173:，=>170:WP\n",
      "174:提供=>170:COO\n",
      "175:近=>177:ATT\n",
      "176:千=>178:ATT\n",
      "177:个=>179:ATT\n",
      "178:座位=>175:VOB\n",
      "179:，=>170:WP\n",
      "180:业绩=>182:ATT\n",
      "181:状况=>185:SBV\n",
      "182:一直=>185:ADV\n",
      "183:稳步=>185:ADV\n",
      "184:有=>170:COO\n",
      "185:升=>185:VOB\n",
      "186:。=>170:WP\n",
      "187:乔治=>189:SBV\n",
      "188:********称********=>170:COO\n",
      "189:，=>189:WP\n",
      "190:随着=>206:ADV\n",
      "191:对=>194:ATT\n",
      "192:华=>192:POB\n",
      "193:业务=>196:SBV\n",
      "194:不断=>196:ADV\n",
      "195:提升=>191:POB\n",
      "196:，=>191:WP\n",
      "197:意航=>206:SBV\n",
      "198:明年=>206:ADV\n",
      "199:可能=>201:ADV\n",
      "200:会=>206:ADV\n",
      "201:将=>206:ADV\n",
      "202:每周=>205:ATT\n",
      "203:4=>205:ATT\n",
      "204:班=>202:POB\n",
      "205:提高=>189:VOB\n",
      "206:到=>206:CMP\n",
      "207:每天=>210:ATT\n",
      "208:一=>210:ATT\n",
      "209:班=>207:POB\n",
      "210:。=>23:WP\n",
      "211:同时=>223:ADV\n",
      "212:，=>212:WP\n",
      "213:意航=>216:SBV\n",
      "214:会=>216:ADV\n",
      "215:借=>221:ATT\n",
      "216:罗马=>218:ATT\n",
      "217:新航=>219:ATT\n",
      "218:站楼=>216:VOB\n",
      "219:启用=>216:COO\n",
      "220:之际=>223:ADV\n",
      "221:，=>221:WP\n",
      "222:吸引=>23:COO\n",
      "223:更=>225:ADV\n",
      "224:多=>227:ATT\n",
      "225:中国=>227:ATT\n",
      "226:旅客=>223:DBL\n",
      "227:到=>223:VOB\n",
      "228:意大利=>228:POB\n",
      "229:旅游=>228:COO\n",
      "230:和=>232:LAD\n",
      "231:转机=>230:COO\n",
      "232:。=>23:WP\n",
      "233:此外=>238:ADV\n",
      "234:，=>234:WP\n",
      "235:还=>238:ADV\n",
      "236:将=>238:ADV\n",
      "237:加大=>23:COO\n",
      "238:对=>245:ATT\n",
      "239:北京=>239:POB\n",
      "240:直=>242:ADV\n",
      "241:飞=>243:ATT\n",
      "242:航线=>239:POB\n",
      "243:的=>239:RAD\n",
      "244:投资=>238:VOB\n",
      "245:，=>238:WP\n",
      "246:如=>248:ADV\n",
      "247:翻新=>238:COO\n",
      "248:航班=>250:ATT\n",
      "249:座椅=>248:VOB\n",
      "250:，=>248:WP\n",
      "251:增加=>248:COO\n",
      "252:电视=>254:ATT\n",
      "253:中=>260:ATT\n",
      "254:有关=>260:ATT\n",
      "255:中国=>257:ATT\n",
      "256:内容=>255:POB\n",
      "257:的=>255:RAD\n",
      "258:娱乐=>260:ATT\n",
      "259:节目=>252:VOB\n",
      "260:、=>262:WP\n",
      "261:提高=>260:COO\n",
      "262:机上=>265:ATT\n",
      "263:中文=>265:ATT\n",
      "264:服务=>262:VOB\n",
      "265:、=>265:WP\n",
      "266:餐饮=>268:ATT\n",
      "267:服务=>265:COO\n",
      "268:、=>270:WP\n",
      "269:完善=>265:COO\n",
      "270:意航=>274:ATT\n",
      "271:中文=>273:ATT\n",
      "272:官方=>274:ATT\n",
      "273:网站=>270:VOB\n",
      "274:，=>248:WP\n",
      "275:提升=>248:COO\n",
      "276:商务舱=>281:ATT\n",
      "277:和=>279:LAD\n",
      "278:普通舱=>277:COO\n",
      "279:的=>277:RAD\n",
      "280:舒适度=>276:VOB\n",
      "281:等=>276:RAD\n",
      "282:。=>23:WP\n",
      "283:他=>285:SBV\n",
      "284:********表示********=>23:COO\n",
      "285:，=>285:WP\n",
      "286:随着=>297:ADV\n",
      "287:中国=>289:ATT\n",
      "288:经济=>292:SBV\n",
      "289:持续=>292:ADV\n",
      "290:稳步=>292:ADV\n",
      "291:增长=>287:POB\n",
      "292:，=>287:WP\n",
      "293:中国=>297:SBV\n",
      "294:将=>297:ADV\n",
      "295:很快=>297:ADV\n",
      "296:跃居=>285:VOB\n",
      "297:成为=>297:VOB\n",
      "298:世界=>301:SBV\n",
      "299:第一=>301:ADV\n",
      "300:出境=>303:ATT\n",
      "301:旅游=>301:COO\n",
      "302:大国=>298:VOB\n",
      "303:。=>23:WP\n",
      "304:去年=>309:ADV\n",
      "305:中国=>308:ATT\n",
      "306:出境=>308:ATT\n",
      "307:旅游=>309:SBV\n",
      "308:突破=>23:COO\n",
      "309:了=>309:RAD\n",
      "310:一亿=>312:ATT\n",
      "311:人次=>309:VOB\n",
      "312:，=>309:WP\n",
      "313:来=>316:ADV\n",
      "314:意大利=>316:SBV\n",
      "315:旅游=>319:ATT\n",
      "316:的=>316:RAD\n",
      "317:中国=>319:ATT\n",
      "318:人=>321:SBV\n",
      "319:也=>321:ADV\n",
      "320:超过=>309:COO\n",
      "321:百万=>323:ATT\n",
      "322:人次=>321:VOB\n",
      "323:，=>309:WP\n",
      "324:今年=>328:ADV\n",
      "325:还=>327:ADV\n",
      "326:会=>328:ADV\n",
      "327:增加=>309:COO\n",
      "328:。=>309:WP\n",
      "329:在=>347:ADV\n",
      "330:面对=>337:ATT\n",
      "331:如此=>333:ADV\n",
      "332:巨大=>336:ATT\n",
      "333:的=>333:RAD\n",
      "334:旅游=>336:ATT\n",
      "335:市场=>331:VOB\n",
      "336:时=>330:POB\n",
      "337:，=>330:WP\n",
      "338:作为=>347:ADV\n",
      "339:本土=>343:ATT\n",
      "340:老牌=>343:ATT\n",
      "341:航空=>343:ATT\n",
      "342:公司=>339:POB\n",
      "343:，=>339:WP\n",
      "344:意航=>347:SBV\n",
      "345:只有=>347:ADV\n",
      "346:练=>309:COO\n",
      "347:好=>347:CMP\n",
      "348:“=>350:WP\n",
      "349:内功=>347:VOB\n",
      "350:”=>350:WP\n",
      "351:，=>347:WP\n",
      "352:不断=>354:ADV\n",
      "353:完善=>347:COO\n",
      "354:和=>356:LAD\n",
      "355:提高=>354:COO\n",
      "356:自身=>358:ATT\n",
      "357:业务=>359:ATT\n",
      "358:能力=>354:VOB\n",
      "359:，=>347:WP\n",
      "360:才=>362:ADV\n",
      "361:能=>368:ADV\n",
      "362:在=>368:ADV\n",
      "363:市场=>365:ATT\n",
      "364:竞争=>366:ATT\n",
      "365:中=>363:POB\n",
      "366:，=>363:WP\n",
      "367:占=>347:COO\n",
      "368:得=>368:CMP\n",
      "369:先机=>369:VOB\n",
      "370:，=>368:WP\n",
      "371:立于不败之地=>368:COO\n",
      "372:。=>23:WP\n",
      "373:在=>387:ADV\n",
      "374:谈=>383:ATT\n",
      "375:到=>375:CMP\n",
      "376:目前=>382:ATT\n",
      "377:意大利=>379:ATT\n",
      "378:航空=>382:ATT\n",
      "379:的=>379:RAD\n",
      "380:经营=>382:ATT\n",
      "381:状况=>375:VOB\n",
      "382:时=>374:POB\n",
      "383:，=>374:WP\n",
      "384:乔治=>386:ATT\n",
      "385:先生=>387:SBV\n",
      "386:********坦言********=>23:COO\n",
      "387:，=>387:WP\n",
      "388:走过=>387:VOB\n",
      "389:70=>391:ATT\n",
      "390:年=>394:ATT\n",
      "391:的=>391:RAD\n",
      "392:意大利=>394:ATT\n",
      "393:航空=>389:VOB\n",
      "394:，=>389:WP\n",
      "395:目前=>398:ADV\n",
      "396:正在=>398:ADV\n",
      "397:经历=>389:COO\n",
      "398:如=>398:CMP\n",
      "399:裁员=>406:ATT\n",
      "400:、=>403:WP\n",
      "401:管理层=>403:SBV\n",
      "402:重组=>400:COO\n",
      "403:等=>400:RAD\n",
      "404:历史=>406:ATT\n",
      "405:上=>399:POB\n",
      "406:又=>410:ADV\n",
      "407:一=>409:ATT\n",
      "408:次=>410:ATT\n",
      "409:转型期=>398:VOB\n",
      "410:。=>387:WP\n",
      "411:乔治=>413:SBV\n",
      "412:********表示********=>387:COO\n",
      "413:，=>413:WP\n",
      "414:意航=>416:ATT\n",
      "415:转型期=>418:SBV\n",
      "416:也=>418:ADV\n",
      "417:是=>413:VOB\n",
      "418:投资者=>421:ATT\n",
      "419:的=>419:RAD\n",
      "420:机遇期=>418:VOB\n",
      "421:，=>418:WP\n",
      "422:意大利=>424:ATT\n",
      "423:航空=>426:SBV\n",
      "424:已=>426:ADV\n",
      "425:做=>418:COO\n",
      "426:好=>426:CMP\n",
      "427:吸引=>432:ATT\n",
      "428:全球业界=>430:SBV\n",
      "429:投资=>428:VOB\n",
      "430:的=>430:RAD\n",
      "431:准备=>426:VOB\n",
      "432:，=>426:WP\n",
      "433:以=>436:ADV\n",
      "434:迅速=>434:POB\n",
      "435:扩充=>426:COO\n",
      "436:实力=>436:VOB\n",
      "437:，=>426:WP\n",
      "438:目前=>441:ADV\n",
      "439:已=>441:ADV\n",
      "440:有=>426:COO\n",
      "441:33=>443:ATT\n",
      "442:家=>446:ATT\n",
      "443:国际=>446:ATT\n",
      "444:投资=>446:ATT\n",
      "445:机构=>441:DBL\n",
      "446:向=>449:ADV\n",
      "447:意航=>447:POB\n",
      "448:提出=>441:VOB\n",
      "449:投资=>451:ATT\n",
      "450:申请=>449:VOB\n",
      "451:，=>441:WP\n",
      "452:能否=>454:ADV\n",
      "453:接受=>441:COO\n",
      "454:、=>457:WP\n",
      "455:如何=>457:ADV\n",
      "456:接受=>454:COO\n",
      "457:，=>454:WP\n",
      "458:意航=>461:SBV\n",
      "459:需=>461:ADV\n",
      "460:做=>466:SBV\n",
      "461:全面=>463:ADV\n",
      "462:评估=>461:VOB\n",
      "463:才=>465:ADV\n",
      "464:会=>466:ADV\n",
      "465:决定=>454:COO\n",
      "466:。=>469:WP\n",
      "467:乔治=>469:SBV\n",
      "468:********表示********=>23:COO\n",
      "469:，=>469:WP\n",
      "470:在=>477:ADV\n",
      "471:转型期=>473:ATT\n",
      "472:内=>471:POB\n",
      "473:，=>471:WP\n",
      "474:意航=>476:ATT\n",
      "475:业务=>477:SBV\n",
      "476:如常=>469:VOB\n",
      "477:，=>477:WP\n",
      "478:资金=>480:SBV\n",
      "479:充分=>477:COO\n",
      "480:，=>480:WP\n",
      "481:并=>483:ADV\n",
      "482:计划=>480:COO\n",
      "483:在=>492:ADV\n",
      "484:下半年=>488:ADV\n",
      "485:和=>488:LAD\n",
      "486:明年=>488:ADV\n",
      "487:增加=>492:ATT\n",
      "488:中远程=>490:ATT\n",
      "489:航线=>488:VOB\n",
      "490:的=>488:RAD\n",
      "491:投资=>483:VOB\n",
      "492:，=>483:WP\n",
      "493:尤其=>495:ADV\n",
      "494:是=>480:COO\n",
      "495:稳固=>495:VOB\n",
      "496:和=>498:LAD\n",
      "497:加强=>496:COO\n",
      "498:像=>505:ADV\n",
      "499:中国=>504:ATT\n",
      "500:这样=>504:ATT\n",
      "501:的=>501:RAD\n",
      "502:大=>504:ATT\n",
      "503:市场=>499:POB\n",
      "504:投资=>496:COO\n",
      "505:。=>23:WP\n"
     ]
    }
   ],
   "source": [
    "print(\"\\n\".join(\"%d:%s=>%d:%s\" % \n",
    "        (i, '********{}********'.format(words[i]) if words[i] in say_words_dict.keys() else words[i], arc.head, arc.relation) \n",
    "                for i, arc in enumerate(arcs)))"
   ]
  },
  {
   "cell_type": "markdown",
   "metadata": {},
   "source": [
    "## Extract from name"
   ]
  },
  {
   "cell_type": "code",
   "execution_count": 75,
   "metadata": {},
   "outputs": [],
   "source": [
    "def get_all_words_related_to(index):\n",
    "    return [words[i] for i, arc in enumerate(arcs) if arc.head == index]"
   ]
  },
  {
   "cell_type": "code",
   "execution_count": 104,
   "metadata": {},
   "outputs": [],
   "source": [
    "candidates = [(name, arcs[name[1]].relation, arcs[name[1]].head) \n",
    "              for name in all_names if arcs[name[1]].relation == 'SBV']"
   ]
  },
  {
   "cell_type": "code",
   "execution_count": 105,
   "metadata": {},
   "outputs": [
    {
     "data": {
      "text/plain": [
       "[(('乔治', 187), 'SBV', 189),\n",
       " (('乔治', 411), 'SBV', 413),\n",
       " (('乔治', 467), 'SBV', 469)]"
      ]
     },
     "execution_count": 105,
     "metadata": {},
     "output_type": "execute_result"
    }
   ],
   "source": [
    "candidates"
   ]
  },
  {
   "cell_type": "code",
   "execution_count": 38,
   "metadata": {},
   "outputs": [],
   "source": [
    "def is_sentence_end(w):\n",
    "    return w in [\"。\", \"!\", \"！\"]"
   ]
  },
  {
   "cell_type": "code",
   "execution_count": 111,
   "metadata": {},
   "outputs": [
    {
     "name": "stdout",
     "output_type": "stream",
     "text": [
      "乔治:随着对华业务不断提升，意航明年可能会将每周4班提高到每天一班。\n",
      "乔治:意航转型期也是投资者的机遇期，意大利航空已做好吸引全球业界投资的准备，以迅速扩充实力，目前已有33家国际投资机构向意航提出投资申请，能否接受、如何接受，意航需做全面评估才会决定。\n",
      "乔治:在转型期内，意航业务如常，资金充分，并计划在下半年和明年增加中远程航线的投资，尤其是稳固和加强像中国这样的大市场投资。\n"
     ]
    }
   ],
   "source": [
    "for candidate in candidates:\n",
    "    sentence = ''\n",
    "    for w in words[candidate[2] + 1:]:\n",
    "        sentence += w\n",
    "        if is_sentence_end(w):\n",
    "            print('{}:{}'.format(candidate[0][0], sentence))\n",
    "            break"
   ]
  },
  {
   "cell_type": "markdown",
   "metadata": {},
   "source": [
    "## Extract from 'say' words"
   ]
  },
  {
   "cell_type": "code",
   "execution_count": 50,
   "metadata": {},
   "outputs": [],
   "source": [
    "options = []\n",
    "for say_word, pos in say_positions:\n",
    "    option = {'say': say_word}\n",
    "    # Get the name who say the words\n",
    "    for i in range(pos, 0, -1):\n",
    "        w = words[i]\n",
    "        if w in names:\n",
    "            option['name'] = w\n",
    "            break\n",
    "    \n",
    "    sentence = ''\n",
    "    for w in words[pos + 1:]:\n",
    "        sentence += w\n",
    "        if is_sentence_end(w):\n",
    "            option['sentence'] = sentence\n",
    "            break\n",
    "    \n",
    "    options.append(option)"
   ]
  },
  {
   "cell_type": "code",
   "execution_count": 51,
   "metadata": {},
   "outputs": [
    {
     "name": "stdout",
     "output_type": "stream",
     "text": [
      "乔治 表示 ，意航确信中国市场对意航的重要性，目前意航已将发展中国市场提升到战略层级的高度，未来，意航将加大在华布局，提升业务水平。\n",
      "乔治 说 ，“自己是第一次访问北京，也是第一次到中国访问。\n",
      "乔治 称 ，随着对华业务不断提升，意航明年可能会将每周4班提高到每天一班。\n",
      "乔治 表示 ，随着中国经济持续稳步增长，中国将很快跃居成为世界第一出境旅游大国。\n",
      "乔治 坦言 ，走过70年的意大利航空，目前正在经历如裁员、管理层重组等历史上又一次转型期。\n",
      "乔治 表示 ，意航转型期也是投资者的机遇期，意大利航空已做好吸引全球业界投资的准备，以迅速扩充实力，目前已有33家国际投资机构向意航提出投资申请，能否接受、如何接受，意航需做全面评估才会决定。\n",
      "乔治 表示 ，在转型期内，意航业务如常，资金充分，并计划在下半年和明年增加中远程航线的投资，尤其是稳固和加强像中国这样的大市场投资。\n"
     ]
    }
   ],
   "source": [
    "for option in options:\n",
    "    print('{} {} {}'.format(option['name'], option['say'], option['sentence']))"
   ]
  },
  {
   "cell_type": "code",
   "execution_count": null,
   "metadata": {},
   "outputs": [],
   "source": []
  }
 ],
 "metadata": {
  "kernelspec": {
   "display_name": "Python 3",
   "language": "python",
   "name": "python3"
  },
  "language_info": {
   "codemirror_mode": {
    "name": "ipython",
    "version": 3
   },
   "file_extension": ".py",
   "mimetype": "text/x-python",
   "name": "python",
   "nbconvert_exporter": "python",
   "pygments_lexer": "ipython3",
   "version": "3.6.6"
  }
 },
 "nbformat": 4,
 "nbformat_minor": 2
}
